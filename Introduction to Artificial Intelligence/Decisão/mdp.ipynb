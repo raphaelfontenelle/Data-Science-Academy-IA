{
 "cells": [
  {
   "cell_type": "markdown",
   "metadata": {},
   "source": [
    "# <font color='blue'>Data Science Academy - Introdução à Inteligência Artificial</font>\n",
    "\n",
    "## Probabilidade"
   ]
  },
  {
   "cell_type": "markdown",
   "metadata": {},
   "source": [
    "# Markov decision processes (MDPs)\n",
    "\n",
    "Este notebook demonstra a criação de algoritmos de iteração de valor através de Processos de Decisão de markov (MDP)."
   ]
  },
  {
   "cell_type": "code",
   "execution_count": 1,
   "metadata": {
    "collapsed": false
   },
   "outputs": [],
   "source": [
    "# Importando as classes\n",
    "from mdp import MDP, GridMDP, sequential_decision_environment, value_iteration"
   ]
  },
  {
   "cell_type": "markdown",
   "metadata": {},
   "source": [
    "## Revisão\n",
    "\n",
    "Antes de começar a jogar com as implementações reais vamos analisar algumas coisas sobre MDPs.\n",
    "\n",
    "- Um processo estocástico tem a propriedade de ** Markov ** se a distribuição de probabilidade condicional de estados futuros do processo (condicional em estados passados e presentes) depende somente do estado presente, não da sequência de eventos que a precederam. Muitas vezes é possível modelar muitos fenômenos diferentes como um processo de Markov, sendo flexível com nossa definição de estado.\n",
    "   \n",
    "\n",
    "- Os MDPs nos ajudam a lidar com ambientes totalmente observáveis e não-determinísticos / estocásticos. Para lidar com casos parcialmente observáveis e estocásticos usamos a generalização de MDPs denominados POMDPs (processo de decisão de Markov parcialmente observável). Nosso objetivo geral para resolver um MDP é chegar a uma política que nos orienta a selecionar a melhor ação em cada estado, de modo a maximizar a soma esperada de recompensas futuras."
   ]
  },
  {
   "cell_type": "markdown",
   "metadata": {},
   "source": [
    "## MDP\n",
    "\n",
    "Para começar, vejamos a implementação da classe MDP definida em mdp.py A docstring nos diz o que é necessário para definir um MDP, ou seja - conjunto de estados, ações, estado inicial, modelo de transição e uma função de recompensa. Cada um deles é implementado como métodos. Não feche o pop-up para que você possa seguir ao longo da descrição do código abaixo."
   ]
  },
  {
   "cell_type": "code",
   "execution_count": 2,
   "metadata": {
    "collapsed": false
   },
   "outputs": [],
   "source": [
    "# Visualizando o código da classe\n",
    "%psource MDP"
   ]
  },
  {
   "cell_type": "markdown",
   "metadata": {},
   "source": [
    "O método ** _ _init_ _ ** incorpora os seguintes parâmetros:\n",
    "\n",
    "- init: o estado inicial.\n",
    "- actlist: Lista de ações possíveis em cada estado.\n",
    "- terminais: lista de estados de terminais onde apenas a ação possível é uma saída\n",
    "- gama: Fator de desconto. Isso garante que as recompensas atrasadas tenham menos valor em comparação com as imediatas.\n",
    "\n",
    "O método ** R ** retorna a recompensa para cada estado usando o self.reward dict.\n",
    "\n",
    "O método ** T ** não está implementado. Aqui retornamos (probabilidade, s ') pares onde s' pertence à lista de estado possível, tomando a a ação no estado s.\n",
    "\n",
    "O método ** actions ** retorna lista de ações possíveis em cada estado. Por padrão, retorna todas as ações para estados que não sejam estados terminais.\n"
   ]
  },
  {
   "cell_type": "markdown",
   "metadata": {},
   "source": [
    "Agora vamos implementar o MDP simples na imagem abaixo. Os estados A, B têm ações X, Y disponíveis neles. Suas probabilidades são mostradas acima das setas. Começamos com o uso do MDP como classe base para o nosso CustomMDP. Obviamente, precisamos fazer algumas mudanças para se adequar ao nosso caso. Fazemos uso de uma matriz de transição como nossas transições não são muito simples.\n",
    "<img src=\"mdp-a.png\">"
   ]
  },
  {
   "cell_type": "code",
   "execution_count": 3,
   "metadata": {
    "collapsed": true
   },
   "outputs": [],
   "source": [
    "# Matriz de transição como dicionário aninhado. Estado -> Ações no estado -> Estados por cada ação -> Probabilidade\n",
    "t = {\n",
    "    \"A\": {\n",
    "            \"X\": {\"A\":0.3, \"B\":0.7},\n",
    "            \"Y\": {\"A\":1.0}\n",
    "         },\n",
    "    \"B\": {\n",
    "            \"X\": {\"End\":0.8, \"B\":0.2},\n",
    "            \"Y\": {\"A\":1.0}\n",
    "         },\n",
    "    \"End\": {}\n",
    "}\n",
    "\n",
    "init = \"A\"\n",
    "\n",
    "terminals = [\"End\"]\n",
    "\n",
    "rewards = {\n",
    "    \"A\": 5,\n",
    "    \"B\": -10,\n",
    "    \"End\": 100\n",
    "}"
   ]
  },
  {
   "cell_type": "code",
   "execution_count": 4,
   "metadata": {
    "collapsed": false
   },
   "outputs": [],
   "source": [
    "# Classe CustomMDP\n",
    "class CustomMDP(MDP):\n",
    "\n",
    "    def __init__(self, transition_matrix, rewards, terminals, init, gamma=.9):\n",
    "        # Todas as ações possíveis\n",
    "        actlist = []\n",
    "        for state in transition_matrix.keys():\n",
    "            actlist.extend(transition_matrix.keys())\n",
    "        actlist = list(set(actlist))\n",
    "\n",
    "        MDP.__init__(self, init, actlist, terminals=terminals, gamma=gamma)\n",
    "        self.t = transition_matrix\n",
    "        self.reward = rewards\n",
    "        for state in self.t:\n",
    "            self.states.add(state)\n",
    "\n",
    "    def T(self, state, action):\n",
    "        return [(new_state, prob) for new_state, prob in self.t[state][action].items()]"
   ]
  },
  {
   "cell_type": "code",
   "execution_count": 5,
   "metadata": {
    "collapsed": false
   },
   "outputs": [],
   "source": [
    "# Finalmente nós instanciamos a classe com os parâmetros para o nosso MDP na imagem.\n",
    "our_mdp = CustomMDP(t, rewards, terminals, init, gamma=.9)"
   ]
  },
  {
   "cell_type": "markdown",
   "metadata": {},
   "source": [
    "Com isso, nós representamos com sucesso nosso MDP. Mais tarde, vamos procurar maneiras de resolver este MDP."
   ]
  },
  {
   "cell_type": "markdown",
   "metadata": {},
   "source": [
    "## Grid MDP\n",
    "\n",
    "Agora olhamos para uma implementação concreta que faz uso do MDP como classe base. A classe GridMDP no módulo mdp é usada para representar um mundo de grade MDP. O código deve ser fácil de entender se você tiver passado pelo exemplo do CustomMDP."
   ]
  },
  {
   "cell_type": "code",
   "execution_count": 6,
   "metadata": {
    "collapsed": true
   },
   "outputs": [],
   "source": [
    "%psource GridMDP"
   ]
  },
  {
   "cell_type": "markdown",
   "metadata": {},
   "source": [
    "O método ** _ _init__ ** toma ** grid ** como um parâmetro extra em comparação com a classe MDP e grid é uma lista aninhada de recompensas em estados.\n",
    "\n",
    "O método ** go ** retorna o estado indo em direção determinada usando vector_add.\n",
    "\n",
    "O método ** T ** não está implementado. Aqui retornamos (probabilidade, s ') pares onde s' pertence à lista de estado possível, tomando a a ação no estado s.\n",
    "\n",
    "O método ** actions ** retorna lista de ações possíveis em cada estado. Por padrão, retorna todas as ações para estados que não sejam estados terminais.\n",
    "\n",
    "O método ** to_arrows ** é usado para representar a política em uma grade como formato."
   ]
  },
  {
   "cell_type": "markdown",
   "metadata": {},
   "source": [
    "Podemos criar um GridMDP da seguinte forma:\n",
    "\n",
    "    GridMDP([[-0.04, -0.04, -0.04, +1],\n",
    "            [-0.04, None,  -0.04, -1],\n",
    "            [-0.04, -0.04, -0.04, -0.04]],\n",
    "            terminals=[(3, 2), (3, 1)])\n",
    "            \n",
    "Na verdade, o ** sequential_decision_environment ** no módulo mdp foi instanciado usando exatamente o mesmo código."
   ]
  },
  {
   "cell_type": "code",
   "execution_count": 7,
   "metadata": {
    "collapsed": false
   },
   "outputs": [
    {
     "data": {
      "text/plain": [
       "<mdp.GridMDP at 0x106b6fd68>"
      ]
     },
     "execution_count": 7,
     "metadata": {},
     "output_type": "execute_result"
    }
   ],
   "source": [
    "sequential_decision_environment"
   ]
  },
  {
   "cell_type": "markdown",
   "metadata": {
    "collapsed": true
   },
   "source": [
    "# Iteração de Valor\n",
    "\n",
    "Agora que nós vimos como representar MDPs, vamos tentar resolvê-los. Nosso objetivo final é obter uma política ideal. Começamos com a análise da Iteração de Valores e uma visualização que deve nos ajudar a entendê-la melhor.\n",
    "\n",
    "Começamos por calcular Valor / Utilidade para cada um dos estados. O valor de cada estado é a soma esperada de recompensas futuras descontadas, dado que começamos nesse estado e seguimos uma política particular. O algoritmo Iteração de valor depende de encontrar soluções da equação de Bellman. A intuição Iteração de valores funciona porque os valores se propagam. Este ponto ficará mais claro com a visualização mais abaixo. "
   ]
  },
  {
   "cell_type": "code",
   "execution_count": 8,
   "metadata": {
    "collapsed": false
   },
   "outputs": [],
   "source": [
    "%psource value_iteration"
   ]
  },
  {
   "cell_type": "markdown",
   "metadata": {},
   "source": [
    "Toma como entradas dois parâmetros um MDP para resolver epsilon o erro máximo permitido na utilidade de qualquer estado. Ele retorna um dicionário contendo utilitários onde as chaves são os estados e os valores representam utilitários. Vamos resolver o ** sequencial_decision_enviornment ** GridMDP."
   ]
  },
  {
   "cell_type": "code",
   "execution_count": 9,
   "metadata": {
    "collapsed": false
   },
   "outputs": [
    {
     "data": {
      "text/plain": [
       "{(0, 0): 0.2962883154554812,\n",
       " (0, 1): 0.3984432178350045,\n",
       " (0, 2): 0.5093943765842497,\n",
       " (1, 0): 0.25386699846479516,\n",
       " (1, 2): 0.649585681261095,\n",
       " (2, 0): 0.3447542300124158,\n",
       " (2, 1): 0.48644001739269643,\n",
       " (2, 2): 0.7953620878466678,\n",
       " (3, 0): 0.12987274656746342,\n",
       " (3, 1): -1.0,\n",
       " (3, 2): 1.0}"
      ]
     },
     "execution_count": 9,
     "metadata": {},
     "output_type": "execute_result"
    }
   ],
   "source": [
    "value_iteration(sequential_decision_environment)"
   ]
  },
  {
   "cell_type": "markdown",
   "metadata": {},
   "source": [
    "## Visualização Para a Iteração de Valor\n",
    "\n",
    "Para ilustrar que os valores se propagam fora dos estados vamos criar uma visualização simples. Estaremos usando uma versão modificada da função value_iteration que armazenará U ao longo do tempo. Também removeremos o parâmetro epsilon e adicionaremos o número de iterações que queremos."
   ]
  },
  {
   "cell_type": "code",
   "execution_count": 10,
   "metadata": {
    "collapsed": true
   },
   "outputs": [],
   "source": [
    "def value_iteration_instru(mdp, iterations=20):\n",
    "    U_over_time = []\n",
    "    U1 = {s: 0 for s in mdp.states}\n",
    "    R, T, gamma = mdp.R, mdp.T, mdp.gamma\n",
    "    for _ in range(iterations):\n",
    "        U = U1.copy()\n",
    "        for s in mdp.states:\n",
    "            U1[s] = R(s) + gamma * max([sum([p * U[s1] for (p, s1) in T(s, a)])\n",
    "                                        for a in mdp.actions(s)])\n",
    "        U_over_time.append(U)\n",
    "    return U_over_time"
   ]
  },
  {
   "cell_type": "markdown",
   "metadata": {},
   "source": [
    "Em seguida, definimos uma função para criar a visualização a partir dos utilitários retornados por ** value_iteration_instru **. Abaixo usaremos o Matplotib com IPython Widgets. Se você estiver interessado em ler mais sobre esse recurso acesse [ipywidgets.readthedocs.io] (http://ipywidgets.readthedocs.io)"
   ]
  },
  {
   "cell_type": "code",
   "execution_count": 11,
   "metadata": {
    "collapsed": false
   },
   "outputs": [],
   "source": [
    "%matplotlib inline\n",
    "import matplotlib.pyplot as plt\n",
    "from collections import defaultdict\n",
    "import time\n",
    "\n",
    "def make_plot_grid_step_function(columns, row, U_over_time):\n",
    "    '''A função interativa ipywidgets suporta\n",
    "        um único parâmetro como entrada. Esta função\n",
    "        cria e devolve tal função, tomando\n",
    "        Na entrada outros parâmetros\n",
    "    '''\n",
    "    def plot_grid_step(iteration):\n",
    "        data = U_over_time[iteration]\n",
    "        data = defaultdict(lambda: 0, data)\n",
    "        grid = []\n",
    "        for row in range(rows):\n",
    "            current_row = []\n",
    "            for column in range(columns):\n",
    "                current_row.append(data[(column, row)])\n",
    "            grid.append(current_row)\n",
    "        grid.reverse() \n",
    "        fig = plt.imshow(grid, cmap=plt.cm.bwr, interpolation='nearest')\n",
    "\n",
    "        plt.axis('off')\n",
    "        fig.axes.get_xaxis().set_visible(False)\n",
    "        fig.axes.get_yaxis().set_visible(False)\n",
    "\n",
    "        for col in range(len(grid)):\n",
    "            for row in range(len(grid[0])):\n",
    "                magic = grid[col][row]\n",
    "                fig.axes.text(row, col, \"{0:.2f}\".format(magic), va='center', ha='center')\n",
    "\n",
    "        plt.show()\n",
    "    \n",
    "    return plot_grid_step\n",
    "\n",
    "def make_visualize(slider):\n",
    "    ''' Toma uma entrada de um controle deslizante e retorna\n",
    "         Função callback para timer e animação\n",
    "    '''\n",
    "    \n",
    "    def visualize_callback(Visualize, time_step):\n",
    "        if Visualize is True:\n",
    "            for i in range(slider.min, slider.max + 1):\n",
    "                slider.value = i\n",
    "                time.sleep(float(time_step))\n",
    "    \n",
    "    return visualize_callback\n",
    "    "
   ]
  },
  {
   "cell_type": "code",
   "execution_count": 12,
   "metadata": {
    "collapsed": false
   },
   "outputs": [],
   "source": [
    "columns = 4\n",
    "rows = 3\n",
    "U_over_time = value_iteration_instru(sequential_decision_environment)     "
   ]
  },
  {
   "cell_type": "code",
   "execution_count": 13,
   "metadata": {
    "collapsed": false
   },
   "outputs": [],
   "source": [
    "plot_grid_step = make_plot_grid_step_function(columns, rows, U_over_time)"
   ]
  },
  {
   "cell_type": "markdown",
   "metadata": {},
   "source": [
    "### Clique no botão Visualize"
   ]
  },
  {
   "cell_type": "code",
   "execution_count": 14,
   "metadata": {
    "collapsed": false,
    "scrolled": true
   },
   "outputs": [
    {
     "data": {
      "image/png": "[encoded data removed]",
      "text/plain": [
       "<matplotlib.figure.Figure at 0x10fe00978>"
      ]
     },
     "metadata": {},
     "output_type": "display_data"
    }
   ],
   "source": [
    "import ipywidgets as widgets\n",
    "from IPython.display import display\n",
    "\n",
    "iteration_slider = widgets.IntSlider(min=1, max=15, step=1, value=0)\n",
    "w=widgets.interactive(plot_grid_step,iteration=iteration_slider)\n",
    "display(w)\n",
    "\n",
    "visualize_callback = make_visualize(iteration_slider)\n",
    "\n",
    "visualize_button = widgets.ToggleButton(desctiption = \"Visualize\", value = False)\n",
    "time_select = widgets.ToggleButtons(description='Extra Delay:',options=['0', '0.1', '0.2', '0.5', '0.7', '1.0'])\n",
    "a = widgets.interactive(visualize_callback, Visualize = visualize_button, time_step=time_select)\n",
    "display(a)"
   ]
  },
  {
   "cell_type": "markdown",
   "metadata": {},
   "source": [
    "Mova o controle deslizante acima para observar como o utilitário é alterado nas iterações. Também é possível mover o controle deslizante usando as teclas de seta ou saltar para o valor editando diretamente o número com um duplo clique. O botão ** Visualize ** animará automaticamente o controle deslizante para você. O ** Extra Delay Box ** permite que você defina o atraso em segundos até um segundo para cada passo de tempo."
   ]
  },
  {
   "cell_type": "markdown",
   "metadata": {},
   "source": [
    "## FIM"
   ]
  }
 ],
 "metadata": {
  "anaconda-cloud": {},
  "kernelspec": {
   "display_name": "Python [default]",
   "language": "python",
   "name": "python3"
  },
  "language_info": {
   "codemirror_mode": {
    "name": "ipython",
    "version": 3
   },
   "file_extension": ".py",
   "mimetype": "text/x-python",
   "name": "python",
   "nbconvert_exporter": "python",
   "pygments_lexer": "ipython3",
   "version": "3.5.2"
  },
  "widgets": {
   "state": {
    "05f568803c334a3981ff495026956887": {
     "views": [
      {
       "cell_index": 28
      }
     ]
    },
    "524770e71d7f40909971ecd76e903ed3": {
     "views": [
      {
       "cell_index": 28
      }
     ]
    },
    "9bbaccf49f5d4e1cb16387646cf857c1": {
     "views": [
      {
       "cell_index": 28
      }
     ]
    },
    "d3a434d3a8a4407e9001789735ba9296": {
     "views": [
      {
       "cell_index": 27
      }
     ]
    }
   },
   "version": "1.2.0"
  }
 },
 "nbformat": 4,
 "nbformat_minor": 0
}
