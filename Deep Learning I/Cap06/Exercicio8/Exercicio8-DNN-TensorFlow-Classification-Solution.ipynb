{
 "cells": [
  {
   "cell_type": "markdown",
   "metadata": {},
   "source": [
    "# <font color='blue'>Data Science Academy</font>\n",
    "# <font color='blue'>Deep Learning I</font>"
   ]
  },
  {
   "cell_type": "markdown",
   "metadata": {},
   "source": [
    "# Deep Neural Networks com TensorFlow \n",
    "## Classificação\n",
    "\n",
    "![TensorFlow](images/tensorflow.png \"TensorFlow\")\n",
    "\n",
    "TensorFlow é uma biblioteca de software de código aberto para aprendizagem de máquinas em vários tipos de tarefas de compreensão de percepção e linguagem. Atualmente, ele é usado tanto para pesquisa quanto para produção por diferentes equipes em muitos produtos comerciais do Google, como reconhecimento de fala, Gmail, Google Photos e pesquisas, muitas das quais anteriormente utilizaram seu antecessor DistBelief. O TensorFlow foi originalmente desenvolvido pela equipe do Google Brain para fins de pesquisa e produção do Google e posteriormente lançado sob a licença de código aberto Apache 2.0 em 9 de novembro de 2015.\n",
    "\n",
    "* [TensorFlow Homepage](https://www.tensorflow.org/)\n",
    "* [TensorFlow GitHub](https://github.com/tensorflow/tensorflow)"
   ]
  },
  {
   "cell_type": "code",
   "execution_count": 1,
   "metadata": {},
   "outputs": [],
   "source": [
    "# Para atualizar um pacote, execute o comando abaixo no terminal ou prompt de comando:\n",
    "# pip install -U nome_pacote\n",
    "\n",
    "# Para instalar a versão exata de um pacote, execute o comando abaixo no terminal ou prompt de comando:\n",
    "# pip install nome_pacote==versão_desejada\n",
    "\n",
    "# Depois de instalar ou atualizar o pacote, reinicie o jupyter notebook."
   ]
  },
  {
   "cell_type": "code",
   "execution_count": 2,
   "metadata": {},
   "outputs": [],
   "source": [
    "# Instala o pacote watermark. \n",
    "# Esse pacote é usado para gravar as versões de outros pacotes usados neste jupyter notebook.\n",
    "!pip install -q -U watermark"
   ]
  },
  {
   "cell_type": "code",
   "execution_count": 3,
   "metadata": {},
   "outputs": [
    {
     "name": "stderr",
     "output_type": "stream",
     "text": [
      "Using TensorFlow backend.\n"
     ]
    }
   ],
   "source": [
    "# Imports\n",
    "import tensorflow as tf\n",
    "import numpy as np\n",
    "import pandas as pd\n",
    "import keras\n",
    "import sklearn"
   ]
  },
  {
   "cell_type": "code",
   "execution_count": 4,
   "metadata": {},
   "outputs": [
    {
     "name": "stdout",
     "output_type": "stream",
     "text": [
      "keras      2.3.1\n",
      "tensorflow 2.1.0\n",
      "pandas     1.0.3\n",
      "sklearn    0.22.2\n",
      "numpy      1.18.2\n",
      "Data Science Academy\n"
     ]
    }
   ],
   "source": [
    "# Versões dos pacotes usados neste jupyter notebook\n",
    "%reload_ext watermark\n",
    "%watermark -a \"Data Science Academy\" --iversions"
   ]
  },
  {
   "cell_type": "markdown",
   "metadata": {},
   "source": [
    "# Usando TensorFlow\n",
    "\n",
    "TensorFlow é uma API de matemática de baixo nível, semelhante ao [Numpy] (http://www.numpy.org/). No entanto, ao contrário de Numpy, TensorFlow é construído para aprendizagem profunda. O TensorFlow funciona permitindo que você defina grafos de computação com o Python. O TensorFlow compila esses grafos de computação em um código C ++ / [CUDA] (https://developer.nvidia.com/cuda-zone) altamente eficiente."
   ]
  },
  {
   "cell_type": "markdown",
   "metadata": {},
   "source": [
    "Neste exercício, seu trabalho é criar as camadas da rede neural, necessárias para construir o modelo de classificação, usando TensorFlow e Keras. Usaremos o dataset iris.csv e nosso objetivo é prever a categoria (ou classe) a qual pertencem as plantas. "
   ]
  },
  {
   "cell_type": "markdown",
   "metadata": {},
   "source": [
    "### Funções de Transformação (função de apoio para construção do modelo)"
   ]
  },
  {
   "cell_type": "code",
   "execution_count": 5,
   "metadata": {},
   "outputs": [],
   "source": [
    "# Encode dos valores de texto (i.e. [1],[2],[3] para vermelho, verde e azul).\n",
    "from sklearn import preprocessing\n",
    "def encode_text_index(df, name):\n",
    "    le = preprocessing.LabelEncoder()\n",
    "    df[name] = le.fit_transform(df[name])\n",
    "    return le.classes_\n",
    "\n",
    "# Função para preencher os valores NA\n",
    "def missing_median(df, name):\n",
    "    med = df[name].median()\n",
    "    df[name] = df[name].fillna(med)\n",
    "    \n",
    "# Converte um dataframe do Pandas para inputs x,y que TensorFlow precisa\n",
    "def to_xy(df, target):\n",
    "    result = []\n",
    "    for x in df.columns:\n",
    "        if x != target:\n",
    "            result.append(x)\n",
    "    \n",
    "    # Descubrindo o tipo da coluna de destino.  \n",
    "    target_type = df[target].dtypes\n",
    "    target_type = target_type[0] if hasattr(target_type, '__iter__') else target_type\n",
    "    \n",
    "    # Codificação. TensorFlow gosta de 32 bits.\n",
    "    if target_type in (np.int64, np.int32):\n",
    "        # Classification\n",
    "        dummies = pd.get_dummies(df[target])\n",
    "        return df.values.astype('float32'), dummies.values.astype('float32')\n",
    "    else:\n",
    "        # Regression\n",
    "        return df.values.astype('float32'), df[target].astype(np.float32)"
   ]
  },
  {
   "cell_type": "code",
   "execution_count": 6,
   "metadata": {},
   "outputs": [
    {
     "name": "stdout",
     "output_type": "stream",
     "text": [
      "Epoch 1/100\n",
      " - 0s - loss: 1.0991\n",
      "Epoch 2/100\n",
      " - 0s - loss: 1.0985\n",
      "Epoch 3/100\n",
      " - 0s - loss: 1.0982\n",
      "Epoch 4/100\n",
      " - 0s - loss: 1.0977\n",
      "Epoch 5/100\n",
      " - 0s - loss: 1.0973\n",
      "Epoch 6/100\n",
      " - 0s - loss: 1.0970\n",
      "Epoch 7/100\n",
      " - 0s - loss: 1.0966\n",
      "Epoch 8/100\n",
      " - 0s - loss: 1.0961\n",
      "Epoch 9/100\n",
      " - 0s - loss: 1.0956\n",
      "Epoch 10/100\n",
      " - 0s - loss: 1.0951\n",
      "Epoch 11/100\n",
      " - 0s - loss: 1.0947\n",
      "Epoch 12/100\n",
      " - 0s - loss: 1.0939\n",
      "Epoch 13/100\n",
      " - 0s - loss: 1.0932\n",
      "Epoch 14/100\n",
      " - 0s - loss: 1.0924\n",
      "Epoch 15/100\n",
      " - 0s - loss: 1.0915\n",
      "Epoch 16/100\n",
      " - 0s - loss: 1.0905\n",
      "Epoch 17/100\n",
      " - 0s - loss: 1.0895\n",
      "Epoch 18/100\n",
      " - 0s - loss: 1.0885\n",
      "Epoch 19/100\n",
      " - 0s - loss: 1.0873\n",
      "Epoch 20/100\n",
      " - 0s - loss: 1.0861\n",
      "Epoch 21/100\n",
      " - 0s - loss: 1.0849\n",
      "Epoch 22/100\n",
      " - 0s - loss: 1.0832\n",
      "Epoch 23/100\n",
      " - 0s - loss: 1.0816\n",
      "Epoch 24/100\n",
      " - 0s - loss: 1.0799\n",
      "Epoch 25/100\n",
      " - 0s - loss: 1.0783\n",
      "Epoch 26/100\n",
      " - 0s - loss: 1.0762\n",
      "Epoch 27/100\n",
      " - 0s - loss: 1.0740\n",
      "Epoch 28/100\n",
      " - 0s - loss: 1.0719\n",
      "Epoch 29/100\n",
      " - 0s - loss: 1.0695\n",
      "Epoch 30/100\n",
      " - 0s - loss: 1.0669\n",
      "Epoch 31/100\n",
      " - 0s - loss: 1.0649\n",
      "Epoch 32/100\n",
      " - 0s - loss: 1.0611\n",
      "Epoch 33/100\n",
      " - 0s - loss: 1.0582\n",
      "Epoch 34/100\n",
      " - 0s - loss: 1.0545\n",
      "Epoch 35/100\n",
      " - 0s - loss: 1.0507\n",
      "Epoch 36/100\n",
      " - 0s - loss: 1.0466\n",
      "Epoch 37/100\n",
      " - 0s - loss: 1.0423\n",
      "Epoch 38/100\n",
      " - 0s - loss: 1.0378\n",
      "Epoch 39/100\n",
      " - 0s - loss: 1.0335\n",
      "Epoch 40/100\n",
      " - 0s - loss: 1.0285\n",
      "Epoch 41/100\n",
      " - 0s - loss: 1.0235\n",
      "Epoch 42/100\n",
      " - 0s - loss: 1.0180\n",
      "Epoch 43/100\n",
      " - 0s - loss: 1.0124\n",
      "Epoch 44/100\n",
      " - 0s - loss: 1.0063\n",
      "Epoch 45/100\n",
      " - 0s - loss: 0.9997\n",
      "Epoch 46/100\n",
      " - 0s - loss: 0.9929\n",
      "Epoch 47/100\n",
      " - 0s - loss: 0.9861\n",
      "Epoch 48/100\n",
      " - 0s - loss: 0.9786\n",
      "Epoch 49/100\n",
      " - 0s - loss: 0.9713\n",
      "Epoch 50/100\n",
      " - 0s - loss: 0.9634\n",
      "Epoch 51/100\n",
      " - 0s - loss: 0.9557\n",
      "Epoch 52/100\n",
      " - 0s - loss: 0.9474\n",
      "Epoch 53/100\n",
      " - 0s - loss: 0.9393\n",
      "Epoch 54/100\n",
      " - 0s - loss: 0.9312\n",
      "Epoch 55/100\n",
      " - 0s - loss: 0.9226\n",
      "Epoch 56/100\n",
      " - 0s - loss: 0.9129\n",
      "Epoch 57/100\n",
      " - 0s - loss: 0.9039\n",
      "Epoch 58/100\n",
      " - 0s - loss: 0.8943\n",
      "Epoch 59/100\n",
      " - 0s - loss: 0.8845\n",
      "Epoch 60/100\n",
      " - 0s - loss: 0.8748\n",
      "Epoch 61/100\n",
      " - 0s - loss: 0.8648\n",
      "Epoch 62/100\n",
      " - 0s - loss: 0.8550\n",
      "Epoch 63/100\n",
      " - 0s - loss: 0.8455\n",
      "Epoch 64/100\n",
      " - 0s - loss: 0.8357\n",
      "Epoch 65/100\n",
      " - 0s - loss: 0.8259\n",
      "Epoch 66/100\n",
      " - 0s - loss: 0.8158\n",
      "Epoch 67/100\n",
      " - 0s - loss: 0.8053\n",
      "Epoch 68/100\n",
      " - 0s - loss: 0.7957\n",
      "Epoch 69/100\n",
      " - 0s - loss: 0.7852\n",
      "Epoch 70/100\n",
      " - 0s - loss: 0.7753\n",
      "Epoch 71/100\n",
      " - 0s - loss: 0.7649\n",
      "Epoch 72/100\n",
      " - 0s - loss: 0.7546\n",
      "Epoch 73/100\n",
      " - 0s - loss: 0.7448\n",
      "Epoch 74/100\n",
      " - 0s - loss: 0.7343\n",
      "Epoch 75/100\n",
      " - 0s - loss: 0.7243\n",
      "Epoch 76/100\n",
      " - 0s - loss: 0.7142\n",
      "Epoch 77/100\n",
      " - 0s - loss: 0.7040\n",
      "Epoch 78/100\n",
      " - 0s - loss: 0.6943\n",
      "Epoch 79/100\n",
      " - 0s - loss: 0.6837\n",
      "Epoch 80/100\n",
      " - 0s - loss: 0.6740\n",
      "Epoch 81/100\n",
      " - 0s - loss: 0.6643\n",
      "Epoch 82/100\n",
      " - 0s - loss: 0.6544\n",
      "Epoch 83/100\n",
      " - 0s - loss: 0.6451\n",
      "Epoch 84/100\n",
      " - 0s - loss: 0.6357\n",
      "Epoch 85/100\n",
      " - 0s - loss: 0.6261\n",
      "Epoch 86/100\n",
      " - 0s - loss: 0.6173\n",
      "Epoch 87/100\n",
      " - 0s - loss: 0.6081\n",
      "Epoch 88/100\n",
      " - 0s - loss: 0.5991\n",
      "Epoch 89/100\n",
      " - 0s - loss: 0.5911\n",
      "Epoch 90/100\n",
      " - 0s - loss: 0.5832\n",
      "Epoch 91/100\n",
      " - 0s - loss: 0.5740\n",
      "Epoch 92/100\n",
      " - 0s - loss: 0.5660\n",
      "Epoch 93/100\n",
      " - 0s - loss: 0.5576\n",
      "Epoch 94/100\n",
      " - 0s - loss: 0.5500\n",
      "Epoch 95/100\n",
      " - 0s - loss: 0.5426\n",
      "Epoch 96/100\n",
      " - 0s - loss: 0.5349\n",
      "Epoch 97/100\n",
      " - 0s - loss: 0.5279\n",
      "Epoch 98/100\n",
      " - 0s - loss: 0.5207\n",
      "Epoch 99/100\n",
      " - 0s - loss: 0.5136\n",
      "Epoch 100/100\n",
      " - 0s - loss: 0.5066\n"
     ]
    },
    {
     "data": {
      "text/plain": [
       "<keras.callbacks.callbacks.History at 0x7fc9f8ce51d0>"
      ]
     },
     "execution_count": 6,
     "metadata": {},
     "output_type": "execute_result"
    }
   ],
   "source": [
    "import pandas as pd\n",
    "import io\n",
    "import os\n",
    "import requests\n",
    "import numpy as np\n",
    "from sklearn import metrics\n",
    "from keras.models import Sequential\n",
    "from keras.layers.core import Dense, Activation\n",
    "from keras.callbacks import EarlyStopping\n",
    "path = \"./data\"\n",
    "\n",
    "# Carrega o dataset\n",
    "filename_read = os.path.join(path,\"iris.csv\")\n",
    "\n",
    "# Preenche com o valor NA quando não houver dados na coluna\n",
    "df = pd.read_csv(filename_read, na_values = ['NA','?'])\n",
    "\n",
    "# Encode das classes\n",
    "species = encode_text_index(df,\"species\")\n",
    "\n",
    "# Converte para o formato x,y requerido pelo TensorFlow\n",
    "x,y = to_xy(df,\"species\")\n",
    "\n",
    "# Cria a rede neural\n",
    "model = Sequential()\n",
    "model.add(Dense(10, input_dim=x.shape[1], kernel_initializer = 'normal', activation = 'relu'))\n",
    "model.add(Dense(1, kernel_initializer = 'normal'))\n",
    "model.add(Dense(y.shape[1],activation = 'softmax'))\n",
    "model.compile(loss = 'categorical_crossentropy', optimizer = 'adam')\n",
    "model.fit(x, y, verbose = 2, epochs = 100)"
   ]
  },
  {
   "cell_type": "code",
   "execution_count": 7,
   "metadata": {},
   "outputs": [
    {
     "name": "stdout",
     "output_type": "stream",
     "text": [
      "['Iris-setosa' 'Iris-versicolor' 'Iris-virginica']\n"
     ]
    }
   ],
   "source": [
    "# Classes encontradas\n",
    "print(species)"
   ]
  },
  {
   "cell_type": "markdown",
   "metadata": {},
   "source": [
    "Agora que você tem uma rede neural treinada, vamos usá-la. O código a seguir usa nossa rede neural. Exatamente como antes, vamos gerar prédições. Observe que 3 valores voltam para cada uma das 150 flores da íris. Havia 3 tipos de íris (Iris-setosa, Iris-versicolor e Iris-virginica)."
   ]
  },
  {
   "cell_type": "code",
   "execution_count": 8,
   "metadata": {},
   "outputs": [
    {
     "name": "stdout",
     "output_type": "stream",
     "text": [
      "Shape: (150, 3)\n",
      "[[8.21242869e-01 1.63537543e-03 1.77121729e-01]\n",
      " [7.77298331e-01 4.19433974e-03 2.18507394e-01]\n",
      " [7.97637403e-01 2.77770264e-03 1.99584857e-01]\n",
      " [7.73500741e-01 4.51184111e-03 2.21987337e-01]\n",
      " [8.26987684e-01 1.42364728e-03 1.71588659e-01]\n",
      " [8.23831975e-01 1.53710437e-03 1.74630985e-01]\n",
      " [7.98079133e-01 2.75178859e-03 1.99169144e-01]\n",
      " [8.05938780e-01 2.32139672e-03 1.91739857e-01]\n",
      " [7.58428037e-01 5.96042257e-03 2.35611513e-01]\n",
      " [7.87278056e-01 3.44240805e-03 2.09279552e-01]\n",
      " [8.34276557e-01 1.18661928e-03 1.64536849e-01]\n",
      " [7.96132803e-01 2.86742439e-03 2.00999707e-01]\n",
      " [7.83731759e-01 3.69641371e-03 2.12571830e-01]\n",
      " [7.95166731e-01 2.92622834e-03 2.01907143e-01]\n",
      " [8.72680664e-01 3.94710311e-04 1.26924664e-01]\n",
      " [8.70021760e-01 4.29900771e-04 1.29548356e-01]\n",
      " [8.45739126e-01 8.77519720e-04 1.53383374e-01]\n",
      " [8.14204514e-01 1.92759489e-03 1.83867916e-01]\n",
      " [8.27906370e-01 1.39188673e-03 1.70701787e-01]\n",
      " [8.30332279e-01 1.31067901e-03 1.68357044e-01]\n",
      " [7.99852729e-01 2.64961715e-03 1.97497725e-01]\n",
      " [8.16193879e-01 1.84115779e-03 1.81964964e-01]\n",
      " [8.43146503e-01 9.41148319e-04 1.55912295e-01]\n",
      " [7.60794103e-01 5.71201788e-03 2.33493879e-01]\n",
      " [7.75557518e-01 4.33764281e-03 2.20104784e-01]\n",
      " [7.64648497e-01 5.32458676e-03 2.30026871e-01]\n",
      " [7.83751488e-01 3.69496294e-03 2.12553591e-01]\n",
      " [8.16864192e-01 1.81272964e-03 1.81323111e-01]\n",
      " [8.15334380e-01 1.87812175e-03 1.82787523e-01]\n",
      " [7.77193725e-01 4.20283992e-03 2.18603402e-01]\n",
      " [7.70042837e-01 4.81693447e-03 2.25140288e-01]\n",
      " [7.97520041e-01 2.78462167e-03 1.99695319e-01]\n",
      " [8.63037765e-01 5.34044870e-04 1.36428192e-01]\n",
      " [8.71467650e-01 4.10474517e-04 1.28121883e-01]\n",
      " [7.79098153e-01 4.05007415e-03 2.16851845e-01]\n",
      " [8.09012830e-01 2.16821348e-03 1.88818976e-01]\n",
      " [8.32913637e-01 1.22839643e-03 1.65857941e-01]\n",
      " [8.32155883e-01 1.25211990e-03 1.66592062e-01]\n",
      " [7.75097549e-01 4.37614042e-03 2.20526338e-01]\n",
      " [8.07581604e-01 2.23851320e-03 1.90179899e-01]\n",
      " [8.18638086e-01 1.73915201e-03 1.79622799e-01]\n",
      " [6.95070028e-01 1.62795056e-02 2.88650513e-01]\n",
      " [7.92451501e-01 3.09652765e-03 2.04451934e-01]\n",
      " [7.75989354e-01 4.30174544e-03 2.19708905e-01]\n",
      " [7.99033403e-01 2.69644079e-03 1.98270231e-01]\n",
      " [7.66855538e-01 5.11211390e-03 2.28032410e-01]\n",
      " [8.31335902e-01 1.27819029e-03 1.67385891e-01]\n",
      " [7.89247811e-01 3.30733880e-03 2.07444906e-01]\n",
      " [8.32832158e-01 1.23092986e-03 1.65936902e-01]\n",
      " [8.04330468e-01 2.40484485e-03 1.93264633e-01]\n",
      " [6.51748553e-02 7.92216718e-01 1.42608419e-01]\n",
      " [6.27999753e-02 7.98149943e-01 1.39050007e-01]\n",
      " [5.49452677e-02 8.18165243e-01 1.26889557e-01]\n",
      " [1.05517589e-01 6.98071659e-01 1.96410730e-01]\n",
      " [7.18534663e-02 7.75799692e-01 1.52346864e-01]\n",
      " [8.28918666e-02 7.49454856e-01 1.67653248e-01]\n",
      " [6.88560531e-02 7.83120334e-01 1.48023650e-01]\n",
      " [9.99405161e-02 7.10441947e-01 1.89617530e-01]\n",
      " [5.83473668e-02 8.09419334e-01 1.32233322e-01]\n",
      " [1.08046286e-01 6.92521751e-01 1.99432001e-01]\n",
      " [1.10124655e-01 6.87986791e-01 2.01888531e-01]\n",
      " [8.14504102e-02 7.52843201e-01 1.65706381e-01]\n",
      " [7.21077994e-02 7.75182009e-01 1.52710244e-01]\n",
      " [7.47850910e-02 7.68711150e-01 1.56503737e-01]\n",
      " [1.13174275e-01 6.81375444e-01 2.05450267e-01]\n",
      " [7.31777623e-02 7.72588968e-01 1.54233202e-01]\n",
      " [9.28150266e-02 7.26518631e-01 1.80666313e-01]\n",
      " [7.62374178e-02 7.65224814e-01 1.58537760e-01]\n",
      " [1.01720884e-01 7.06473231e-01 1.91805899e-01]\n",
      " [8.01167414e-02 7.55991578e-01 1.63891673e-01]\n",
      " [9.82711762e-02 7.14180410e-01 1.87548444e-01]\n",
      " [7.20695034e-02 7.75274992e-01 1.52655572e-01]\n",
      " [8.92241821e-02 7.34742224e-01 1.76033631e-01]\n",
      " [6.62934333e-02 7.89439976e-01 1.44266605e-01]\n",
      " [6.39620274e-02 7.95240283e-01 1.40797675e-01]\n",
      " [6.08886369e-02 8.02963734e-01 1.36147603e-01]\n",
      " [5.94944991e-02 8.06497335e-01 1.34008169e-01]\n",
      " [7.36701787e-02 7.71398723e-01 1.54931009e-01]\n",
      " [8.31237882e-02 7.48911083e-01 1.67965084e-01]\n",
      " [1.25861585e-01 6.54392183e-01 2.19746277e-01]\n",
      " [8.61302018e-02 7.41896331e-01 1.71973422e-01]\n",
      " [7.94298723e-02 7.57618189e-01 1.62951931e-01]\n",
      " [7.40802437e-02 7.70409107e-01 1.55510604e-01]\n",
      " [1.00619569e-01 7.08926022e-01 1.90454409e-01]\n",
      " [9.98949334e-02 7.10543752e-01 1.89561248e-01]\n",
      " [7.33737946e-02 7.72114992e-01 1.54511258e-01]\n",
      " [5.88349812e-02 8.08175683e-01 1.32989377e-01]\n",
      " [8.02606866e-02 7.55651236e-01 1.64088160e-01]\n",
      " [7.81772062e-02 7.60593712e-01 1.61229104e-01]\n",
      " [9.76907387e-02 7.15484202e-01 1.86825052e-01]\n",
      " [8.90489966e-02 7.35145569e-01 1.75805479e-01]\n",
      " [7.13145807e-02 7.77110219e-01 1.51575148e-01]\n",
      " [7.75824860e-02 7.62010515e-01 1.60407022e-01]\n",
      " [9.70474705e-02 7.16931581e-01 1.86020970e-01]\n",
      " [8.80237520e-02 7.37510264e-01 1.74465954e-01]\n",
      " [7.75346085e-02 7.62124717e-01 1.60340711e-01]\n",
      " [7.81688467e-02 7.60613561e-01 1.61217555e-01]\n",
      " [6.51876554e-02 7.92184770e-01 1.42627463e-01]\n",
      " [1.39936522e-01 6.25377715e-01 2.34685704e-01]\n",
      " [8.09281170e-02 7.54074633e-01 1.64997250e-01]\n",
      " [4.11968768e-01 2.03361198e-01 3.84670019e-01]\n",
      " [3.97086799e-01 2.20400661e-01 3.82512540e-01]\n",
      " [3.29423875e-01 3.06527019e-01 3.64049107e-01]\n",
      " [3.44580412e-01 2.86011994e-01 3.69407624e-01]\n",
      " [3.79299462e-01 2.41673797e-01 3.79026800e-01]\n",
      " [3.04622114e-01 3.41614217e-01 3.53763729e-01]\n",
      " [4.33360070e-01 1.80093214e-01 3.86546791e-01]\n",
      " [2.88061887e-01 3.66094261e-01 3.45843792e-01]\n",
      " [3.48151416e-01 2.81280816e-01 3.70567769e-01]\n",
      " [3.37130249e-01 2.96008229e-01 3.66861492e-01]\n",
      " [3.32915366e-01 3.01738858e-01 3.65345806e-01]\n",
      " [3.61763060e-01 2.63605475e-01 3.74631435e-01]\n",
      " [3.44479918e-01 2.86145657e-01 3.69374394e-01]\n",
      " [4.27411109e-01 1.86418116e-01 3.86170775e-01]\n",
      " [4.52073306e-01 1.60937205e-01 3.86989504e-01]\n",
      " [3.80274117e-01 2.40482718e-01 3.79243225e-01]\n",
      " [3.24124902e-01 3.13865215e-01 3.62009853e-01]\n",
      " [2.58904010e-01 4.11269724e-01 3.29826176e-01]\n",
      " [3.54520649e-01 2.72939354e-01 3.72540057e-01]\n",
      " [3.65331799e-01 2.59065539e-01 3.75602722e-01]\n",
      " [3.52870017e-01 2.75089115e-01 3.72040838e-01]\n",
      " [4.13424134e-01 2.01732233e-01 3.84843677e-01]\n",
      " [2.99631596e-01 3.48902345e-01 3.51466030e-01]\n",
      " [3.51059705e-01 2.77456552e-01 3.71483773e-01]\n",
      " [3.32593709e-01 3.02178383e-01 3.65227908e-01]\n",
      " [2.71348596e-01 3.91662806e-01 3.36988598e-01]\n",
      " [3.49670947e-01 2.79279470e-01 3.71049613e-01]\n",
      " [3.43544871e-01 2.87391275e-01 3.69063884e-01]\n",
      " [3.83905172e-01 2.36071199e-01 3.80023628e-01]\n",
      " [2.56897718e-01 4.14476752e-01 3.28625530e-01]\n",
      " [2.99557418e-01 3.49011242e-01 3.51431280e-01]\n",
      " [2.19047070e-01 4.77423579e-01 3.03529352e-01]\n",
      " [3.96645427e-01 2.20916599e-01 3.82437944e-01]\n",
      " [3.06894928e-01 3.38320345e-01 3.54784787e-01]\n",
      " [3.24983001e-01 3.12671065e-01 3.62345904e-01]\n",
      " [3.19564342e-01 3.20249677e-01 3.60185981e-01]\n",
      " [3.89035732e-01 2.29907647e-01 3.81056607e-01]\n",
      " [3.23728532e-01 3.14417630e-01 3.61853868e-01]\n",
      " [3.48882586e-01 2.80316889e-01 3.70800495e-01]\n",
      " [3.30385536e-01 3.05204481e-01 3.64409983e-01]\n",
      " [3.84009510e-01 2.35945001e-01 3.80045444e-01]\n",
      " [3.53618622e-01 2.74113089e-01 3.72268289e-01]\n",
      " [3.97086799e-01 2.20400661e-01 3.82512540e-01]\n",
      " [3.61158699e-01 2.64378190e-01 3.74463081e-01]\n",
      " [3.84632617e-01 2.35192329e-01 3.80175054e-01]\n",
      " [3.73842478e-01 2.48396844e-01 3.77760708e-01]\n",
      " [3.78362507e-01 2.42821559e-01 3.78815949e-01]\n",
      " [3.47395182e-01 2.82279432e-01 3.70325327e-01]\n",
      " [3.80477369e-01 2.40234718e-01 3.79287988e-01]\n",
      " [3.58178228e-01 2.68205434e-01 3.73616368e-01]]\n"
     ]
    }
   ],
   "source": [
    "pred = model.predict(x)\n",
    "print(\"Shape: {}\".format(pred.shape))\n",
    "print(pred)"
   ]
  },
  {
   "cell_type": "code",
   "execution_count": 9,
   "metadata": {},
   "outputs": [],
   "source": [
    "# Desliga a opção de notação científica para imprimir os resultados.\n",
    "np.set_printoptions(suppress = True)"
   ]
  },
  {
   "cell_type": "code",
   "execution_count": 10,
   "metadata": {},
   "outputs": [
    {
     "name": "stdout",
     "output_type": "stream",
     "text": [
      "Valores Previstos: [0 0 0 0 0 0 0 0 0 0 0 0 0 0 0 0 0 0 0 0 0 0 0 0 0 0 0 0 0 0 0 0 0 0 0 0 0\n",
      " 0 0 0 0 0 0 0 0 0 0 0 0 0 1 1 1 1 1 1 1 1 1 1 1 1 1 1 1 1 1 1 1 1 1 1 1 1\n",
      " 1 1 1 1 1 1 1 1 1 1 1 1 1 1 1 1 1 1 1 1 1 1 1 1 1 1 0 0 2 2 0 2 0 1 2 2 2\n",
      " 2 2 0 0 0 2 1 2 2 2 0 2 2 2 1 2 2 0 1 2 1 0 2 2 2 0 2 2 2 0 2 0 2 0 2 2 2\n",
      " 0 2]\n",
      "Valores Esperados: [0 0 0 0 0 0 0 0 0 0 0 0 0 0 0 0 0 0 0 0 0 0 0 0 0 0 0 0 0 0 0 0 0 0 0 0 0\n",
      " 0 0 0 0 0 0 0 0 0 0 0 0 0 1 1 1 1 1 1 1 1 1 1 1 1 1 1 1 1 1 1 1 1 1 1 1 1\n",
      " 1 1 1 1 1 1 1 1 1 1 1 1 1 1 1 1 1 1 1 1 1 1 1 1 1 1 2 2 2 2 2 2 2 2 2 2 2\n",
      " 2 2 2 2 2 2 2 2 2 2 2 2 2 2 2 2 2 2 2 2 2 2 2 2 2 2 2 2 2 2 2 2 2 2 2 2 2\n",
      " 2 2]\n"
     ]
    }
   ],
   "source": [
    "# Normalmente, a coluna (pred) com maior previsão é considerada a predição da rede neural. \n",
    "# A função argmax encontra o índice da previsão máxima para cada linha.\n",
    "predict_classes = np.argmax(pred,axis=1)\n",
    "expected_classes = np.argmax(y,axis=1)\n",
    "print(\"Valores Previstos: {}\".format(predict_classes))\n",
    "print(\"Valores Esperados: {}\".format(expected_classes))"
   ]
  },
  {
   "cell_type": "code",
   "execution_count": 11,
   "metadata": {},
   "outputs": [
    {
     "name": "stdout",
     "output_type": "stream",
     "text": [
      "['Iris-setosa' 'Iris-setosa' 'Iris-setosa' 'Iris-setosa' 'Iris-setosa'\n",
      " 'Iris-setosa' 'Iris-setosa' 'Iris-setosa' 'Iris-setosa']\n"
     ]
    }
   ],
   "source": [
    "# É muito fácil transformar esses índices de volta em espécies de íris. \n",
    "# Nós apenas usamos a lista de espécies que criamos anteriormente.\n",
    "print(species[predict_classes[1:10]])"
   ]
  },
  {
   "cell_type": "code",
   "execution_count": 12,
   "metadata": {},
   "outputs": [
    {
     "name": "stdout",
     "output_type": "stream",
     "text": [
      "Acurácia: 0.8666666666666667\n"
     ]
    }
   ],
   "source": [
    "# A precisão pode ser uma métrica de erro mais fácil de entender. \n",
    "# É essencialmente uma pontuação de teste. Para todas as previsões da íris, que porcentagem estava correta? \n",
    "# A desvantagem é que não considera a confiança na rede neural em cada previsão.\n",
    "from sklearn.metrics import accuracy_score\n",
    "correct = accuracy_score(expected_classes, predict_classes)\n",
    "print(\"Acurácia: {}\".format(correct))"
   ]
  },
  {
   "cell_type": "markdown",
   "metadata": {},
   "source": [
    "O código abaixo executa duas previsões ad hoc. A primeira previsão é simplesmente uma única flor de íris. O segundo prediz duas flores de íris. Observe que o argmax na segunda predição requer **eixo = 1**? Uma vez que temos um array 2D agora, devemos especificar qual eixo levar o argmax. O valor **axis = 1** especifica que queremos o índice de coluna max para cada linha."
   ]
  },
  {
   "cell_type": "code",
   "execution_count": 13,
   "metadata": {},
   "outputs": [
    {
     "name": "stdout",
     "output_type": "stream",
     "text": [
      "\n",
      "Prevendo que\n",
      " [[5. 3. 4. 2. 1.]] é: Iris-versicolor\n",
      "\n",
      "Prevendo que\n",
      " [[5.  3.  4.  2.  1. ]\n",
      " [5.2 3.5 1.5 0.8 1. ]] é: ['Iris-versicolor' 'Iris-setosa']\n"
     ]
    }
   ],
   "source": [
    "tf.compat.v1.logging.set_verbosity(tf.compat.v1.logging.ERROR)\n",
    "\n",
    "# Previsão ad-hoc\n",
    "sample_flower = np.array( [[5.0,3.0,4.0,2.0,1]], dtype=float)\n",
    "pred = model.predict(sample_flower)\n",
    "pred = np.argmax(pred)\n",
    "print(\"\\nPrevendo que\\n {} é: {}\".format(sample_flower,species[pred]))\n",
    "\n",
    "# predict two sample flowers\n",
    "sample_flower = np.array( [[5.0,3.0,4.0,2.0,1],[5.2,3.5,1.5,0.8,1]], dtype=float)\n",
    "pred = model.predict(sample_flower)\n",
    "pred = np.argmax(pred,axis=1)\n",
    "print(\"\\nPrevendo que\\n {} é: {}\".format(sample_flower,species[pred]))"
   ]
  },
  {
   "cell_type": "markdown",
   "metadata": {
    "collapsed": true
   },
   "source": [
    "# Fim"
   ]
  }
 ],
 "metadata": {
  "anaconda-cloud": {},
  "kernelspec": {
   "display_name": "Python 3",
   "language": "python",
   "name": "python3"
  },
  "language_info": {
   "codemirror_mode": {
    "name": "ipython",
    "version": 3
   },
   "file_extension": ".py",
   "mimetype": "text/x-python",
   "name": "python",
   "nbconvert_exporter": "python",
   "pygments_lexer": "ipython3",
   "version": "3.7.4"
  }
 },
 "nbformat": 4,
 "nbformat_minor": 1
}
